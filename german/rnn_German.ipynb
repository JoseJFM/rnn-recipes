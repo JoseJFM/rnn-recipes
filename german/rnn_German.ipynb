{
 "cells": [
  {
   "cell_type": "code",
   "execution_count": 1,
   "metadata": {},
   "outputs": [],
   "source": [
    "import numpy as np\n",
    "import pandas as pd"
   ]
  },
  {
   "cell_type": "code",
   "execution_count": 2,
   "metadata": {},
   "outputs": [
    {
     "name": "stdout",
     "output_type": "stream",
     "text": [
      "1.13.1\n",
      "2.2.4-tf\n"
     ]
    }
   ],
   "source": [
    "from __future__ import absolute_import, division, print_function\n",
    "\n",
    "import os\n",
    "\n",
    "import tensorflow as tf\n",
    "from tensorflow import keras\n",
    "\n",
    "from tensorflow.keras import layers\n",
    "\n",
    "print(tf.VERSION)\n",
    "print(tf.keras.__version__)"
   ]
  },
  {
   "cell_type": "code",
   "execution_count": 3,
   "metadata": {},
   "outputs": [],
   "source": [
    "import warnings\n",
    "warnings.filterwarnings('ignore')"
   ]
  },
  {
   "cell_type": "code",
   "execution_count": 4,
   "metadata": {},
   "outputs": [],
   "source": [
    "df = pd.read_json(\"recipesGerman.json\")"
   ]
  },
  {
   "cell_type": "code",
   "execution_count": 6,
   "metadata": {},
   "outputs": [
    {
     "data": {
      "text/html": [
       "<div>\n",
       "<style scoped>\n",
       "    .dataframe tbody tr th:only-of-type {\n",
       "        vertical-align: middle;\n",
       "    }\n",
       "\n",
       "    .dataframe tbody tr th {\n",
       "        vertical-align: top;\n",
       "    }\n",
       "\n",
       "    .dataframe thead th {\n",
       "        text-align: right;\n",
       "    }\n",
       "</style>\n",
       "<table border=\"1\" class=\"dataframe\">\n",
       "  <thead>\n",
       "    <tr style=\"text-align: right;\">\n",
       "      <th></th>\n",
       "      <th>Day</th>\n",
       "      <th>Ingredients</th>\n",
       "      <th>Instructions</th>\n",
       "      <th>Month</th>\n",
       "      <th>Name</th>\n",
       "      <th>Url</th>\n",
       "      <th>Weekday</th>\n",
       "      <th>Year</th>\n",
       "    </tr>\n",
       "  </thead>\n",
       "  <tbody>\n",
       "    <tr>\n",
       "      <th>0</th>\n",
       "      <td>1</td>\n",
       "      <td>[600 g Hackfleisch, halb und halb, 800 g Sauer...</td>\n",
       "      <td>Die Eier hart kochen. Dann pellen und mit eine...</td>\n",
       "      <td>January</td>\n",
       "      <td>Gebratener Hasenrücken</td>\n",
       "      <td>https://www.chefkoch.de/rezepte/185441079701305/</td>\n",
       "      <td>Thursday</td>\n",
       "      <td>2009</td>\n",
       "    </tr>\n",
       "    <tr>\n",
       "      <th>1</th>\n",
       "      <td>1</td>\n",
       "      <td>[1 kg Strauchtomate(n), 1 Gemüsezwiebel(n), 1 ...</td>\n",
       "      <td>Vorab folgende Bemerkung: Alle Mengen sind Cir...</td>\n",
       "      <td>July</td>\n",
       "      <td>Pilz Stroganoff</td>\n",
       "      <td>https://www.chefkoch.de/rezepte/2718181424631245/</td>\n",
       "      <td>Saturday</td>\n",
       "      <td>2017</td>\n",
       "    </tr>\n",
       "    <tr>\n",
       "      <th>2</th>\n",
       "      <td>1</td>\n",
       "      <td>[1 Glas Kirsche(n), 1 Pck. Vanillepuddingpulve...</td>\n",
       "      <td>Die Kirschen abtropfen lassen, dabei den Saft ...</td>\n",
       "      <td>January</td>\n",
       "      <td>Kaninchen a la Gioff</td>\n",
       "      <td>https://www.chefkoch.de/rezepte/46341015661368/</td>\n",
       "      <td>Monday</td>\n",
       "      <td>2007</td>\n",
       "    </tr>\n",
       "    <tr>\n",
       "      <th>3</th>\n",
       "      <td>1</td>\n",
       "      <td>[500 g Spargel, grüner, 300 ml Brühe oder Fond...</td>\n",
       "      <td>Den Spargel säubern, die holzigen Enden abschn...</td>\n",
       "      <td>April</td>\n",
       "      <td>Spanisches Knoblauch-Kaninchen</td>\n",
       "      <td>https://www.chefkoch.de/rezepte/51051018014178/</td>\n",
       "      <td>Monday</td>\n",
       "      <td>2013</td>\n",
       "    </tr>\n",
       "    <tr>\n",
       "      <th>4</th>\n",
       "      <td>1</td>\n",
       "      <td>[250 g Kohlrabi, 150 ml Gemüsebrühe, 150 ml Mi...</td>\n",
       "      <td>Kohlrabi schälen und klein würfeln. Mit der Br...</td>\n",
       "      <td>August</td>\n",
       "      <td>Gnocchi - Hack - Pfanne mit Basilikum</td>\n",
       "      <td>https://www.chefkoch.de/rezepte/1555771262860408/</td>\n",
       "      <td>Tuesday</td>\n",
       "      <td>2017</td>\n",
       "    </tr>\n",
       "    <tr>\n",
       "      <th>5</th>\n",
       "      <td>1</td>\n",
       "      <td>[Für den Mürbeteig:, 200 g Weizenmehl, 100 g B...</td>\n",
       "      <td>Aus dem Mehl, der Butter, dem Ei und etwas Sal...</td>\n",
       "      <td>August</td>\n",
       "      <td>Spaghetti Siracusani</td>\n",
       "      <td>https://www.chefkoch.de/rezepte/318661113606205/</td>\n",
       "      <td>Monday</td>\n",
       "      <td>2011</td>\n",
       "    </tr>\n",
       "    <tr>\n",
       "      <th>6</th>\n",
       "      <td>1</td>\n",
       "      <td>[Für die Marinade:, 3 EL Öl, 5 EL Rotwein, 2 E...</td>\n",
       "      <td>Das Öl mit dem Rotwein, dem Essig, den Wachold...</td>\n",
       "      <td>October</td>\n",
       "      <td>Rehrücken in Salzkruste mit Waldpilzgulasch</td>\n",
       "      <td>https://www.chefkoch.de/rezepte/307991111110164/</td>\n",
       "      <td>Sunday</td>\n",
       "      <td>2006</td>\n",
       "    </tr>\n",
       "    <tr>\n",
       "      <th>7</th>\n",
       "      <td>1</td>\n",
       "      <td>[1 Tasse Reis, (Langkornreis), 2 Tasse/n Wasse...</td>\n",
       "      <td>Den Reis mit 2 Tassen Wasser/Gemüsebrühe aufse...</td>\n",
       "      <td>March</td>\n",
       "      <td>Eier in Senfsauce</td>\n",
       "      <td>https://www.chefkoch.de/rezepte/800291183649658/</td>\n",
       "      <td>Thursday</td>\n",
       "      <td>2012</td>\n",
       "    </tr>\n",
       "    <tr>\n",
       "      <th>8</th>\n",
       "      <td>1</td>\n",
       "      <td>[1200 g Kartoffel(n), mehlig kochend, 250 ml M...</td>\n",
       "      <td>Kartoffeln schälen, waschen, vierteln und in k...</td>\n",
       "      <td>April</td>\n",
       "      <td>Äppelufflaaf mett Woi</td>\n",
       "      <td>https://www.chefkoch.de/rezepte/295691108953224/</td>\n",
       "      <td>Saturday</td>\n",
       "      <td>2006</td>\n",
       "    </tr>\n",
       "    <tr>\n",
       "      <th>9</th>\n",
       "      <td>1</td>\n",
       "      <td>[400 g Kartoffel(n), 300 g Steckrübe(n), 300 g...</td>\n",
       "      <td>Kartoffeln, Steckrüben, Sellerie und Zwiebel s...</td>\n",
       "      <td>November</td>\n",
       "      <td>Gefüllte Schinkenröllchen</td>\n",
       "      <td>https://www.chefkoch.de/rezepte/44381015086527/</td>\n",
       "      <td>Wednesday</td>\n",
       "      <td>2006</td>\n",
       "    </tr>\n",
       "    <tr>\n",
       "      <th>10</th>\n",
       "      <td>1</td>\n",
       "      <td>[750 g Rinderbraten, mager, Salz und Pfeffer, ...</td>\n",
       "      <td>Fleisch würzen. Öl in einem Topf erhitzen. Das...</td>\n",
       "      <td>July</td>\n",
       "      <td>Leichtes Mittagessen</td>\n",
       "      <td>https://www.chefkoch.de/rezepte/968531202489769/</td>\n",
       "      <td>Thursday</td>\n",
       "      <td>2010</td>\n",
       "    </tr>\n",
       "    <tr>\n",
       "      <th>11</th>\n",
       "      <td>1</td>\n",
       "      <td>[8 Schweineschnitzel, 4 EL Senf, 16 Scheibe/n ...</td>\n",
       "      <td>Schweineschnitzel dünn klopfen, mit Senf bestr...</td>\n",
       "      <td>January</td>\n",
       "      <td>Herzhafte Pfannkuchen</td>\n",
       "      <td>https://www.chefkoch.de/rezepte/1547251261244879/</td>\n",
       "      <td>Tuesday</td>\n",
       "      <td>2019</td>\n",
       "    </tr>\n",
       "    <tr>\n",
       "      <th>12</th>\n",
       "      <td>1</td>\n",
       "      <td>[1 Chilischote(n), 1 Würfel Gemüsebrühe, 200 m...</td>\n",
       "      <td>Die Chilischote (scharf) entkernen, von den In...</td>\n",
       "      <td>December</td>\n",
       "      <td>Raizenkarpfen</td>\n",
       "      <td>https://www.chefkoch.de/rezepte/121811051714864/</td>\n",
       "      <td>Friday</td>\n",
       "      <td>2006</td>\n",
       "    </tr>\n",
       "    <tr>\n",
       "      <th>13</th>\n",
       "      <td>1</td>\n",
       "      <td>[1 Radicchio (ca. 150g), 1 Birne(n), reife, 10...</td>\n",
       "      <td>Radicchio waschen, rüsten, in mundgerechte Stü...</td>\n",
       "      <td>September</td>\n",
       "      <td>Bulgur Buddha Bowl</td>\n",
       "      <td>https://www.chefkoch.de/rezepte/3116611464630134/</td>\n",
       "      <td>Thursday</td>\n",
       "      <td>2016</td>\n",
       "    </tr>\n",
       "    <tr>\n",
       "      <th>14</th>\n",
       "      <td>1</td>\n",
       "      <td>[1,1 kg Kalbfleisch (Tafelspitz), 2 EL Senf, m...</td>\n",
       "      <td>Den Kalbstafelspitz kurz waschen und auf der F...</td>\n",
       "      <td>October</td>\n",
       "      <td>Überbackene Rigatoni in Schinken-Sahne-Soße</td>\n",
       "      <td>https://www.chefkoch.de/rezepte/2118401341296891/</td>\n",
       "      <td>Monday</td>\n",
       "      <td>2012</td>\n",
       "    </tr>\n",
       "    <tr>\n",
       "      <th>15</th>\n",
       "      <td>1</td>\n",
       "      <td>[500 g Hackfleisch, gemischt, evtl. Kräuter (O...</td>\n",
       "      <td>Das Hackfleisch mit Salz und Pfeffer würzen. E...</td>\n",
       "      <td>March</td>\n",
       "      <td>Gittas Schmorgurken</td>\n",
       "      <td>https://www.chefkoch.de/rezepte/616691161699398/</td>\n",
       "      <td>Wednesday</td>\n",
       "      <td>2017</td>\n",
       "    </tr>\n",
       "    <tr>\n",
       "      <th>16</th>\n",
       "      <td>1</td>\n",
       "      <td>[2 Ei(er), 1/4Liter Milch, ungefähre Mengenang...</td>\n",
       "      <td>Die Eier verquirlen, Milch, Mehl und eine Pris...</td>\n",
       "      <td>May</td>\n",
       "      <td>Griechische Hackfleischquiche</td>\n",
       "      <td>https://www.chefkoch.de/rezepte/1403841245257043/</td>\n",
       "      <td>Saturday</td>\n",
       "      <td>2010</td>\n",
       "    </tr>\n",
       "    <tr>\n",
       "      <th>17</th>\n",
       "      <td>1</td>\n",
       "      <td>[800 g Gulasch vom Schwein (nicht zu groß gesc...</td>\n",
       "      <td>Zwiebel in Viertel schneiden ( in etwas wie di...</td>\n",
       "      <td>June</td>\n",
       "      <td>Kartoffelgratin mit Cheddar</td>\n",
       "      <td>https://www.chefkoch.de/rezepte/1320990972985/</td>\n",
       "      <td>Thursday</td>\n",
       "      <td>2006</td>\n",
       "    </tr>\n",
       "    <tr>\n",
       "      <th>18</th>\n",
       "      <td>1</td>\n",
       "      <td>[120 g Mehl, Salz, 250 ml Milch, 5 Ei(er), 1 S...</td>\n",
       "      <td>Mehl mit Salz mischen. Milch und 4 Eier unterr...</td>\n",
       "      <td>July</td>\n",
       "      <td>Sahne-Kräuter-Hähnchen</td>\n",
       "      <td>https://www.chefkoch.de/rezepte/1135989064911/</td>\n",
       "      <td>Sunday</td>\n",
       "      <td>2007</td>\n",
       "    </tr>\n",
       "    <tr>\n",
       "      <th>19</th>\n",
       "      <td>1</td>\n",
       "      <td>[700 g Kartoffel(n), Salz, 2 Zwiebel(n), 1 Zeh...</td>\n",
       "      <td>Kartoffeln schälen, bei Bedarf kleiner schneid...</td>\n",
       "      <td>September</td>\n",
       "      <td>Rotbarschfilet auf pürierten Tomaten mit Zucch...</td>\n",
       "      <td>https://www.chefkoch.de/rezepte/311161112317127/</td>\n",
       "      <td>Friday</td>\n",
       "      <td>2006</td>\n",
       "    </tr>\n",
       "    <tr>\n",
       "      <th>20</th>\n",
       "      <td>1</td>\n",
       "      <td>[500 g Püree aus Kartoffeln, vom Vortag, kalt,...</td>\n",
       "      <td>Das kalte Kartoffelpüree mit den angegebenen Z...</td>\n",
       "      <td>December</td>\n",
       "      <td>Bayerische Schinkennudeln</td>\n",
       "      <td>https://www.chefkoch.de/rezepte/647661166019191/</td>\n",
       "      <td>Thursday</td>\n",
       "      <td>2016</td>\n",
       "    </tr>\n",
       "    <tr>\n",
       "      <th>21</th>\n",
       "      <td>1</td>\n",
       "      <td>[500 g Kartoffel(n), 500 g Süßkartoffel(n), 2 ...</td>\n",
       "      <td>Den Backofen vorheizen auf 180 °C Ober-/Unterh...</td>\n",
       "      <td>January</td>\n",
       "      <td>Herzhafte Pfannkuchen</td>\n",
       "      <td>https://www.chefkoch.de/rezepte/1547251261244879/</td>\n",
       "      <td>Tuesday</td>\n",
       "      <td>2019</td>\n",
       "    </tr>\n",
       "    <tr>\n",
       "      <th>22</th>\n",
       "      <td>1</td>\n",
       "      <td>[700 g Gemüse, z. B. Kartoffeln und Kürbis, Zu...</td>\n",
       "      <td>Gemüse schälen, auf der Reibe grob raspeln. Zw...</td>\n",
       "      <td>January</td>\n",
       "      <td>Gebratener Hasenrücken</td>\n",
       "      <td>https://www.chefkoch.de/rezepte/185441079701305/</td>\n",
       "      <td>Thursday</td>\n",
       "      <td>2009</td>\n",
       "    </tr>\n",
       "    <tr>\n",
       "      <th>23</th>\n",
       "      <td>1</td>\n",
       "      <td>[7 dicke Kartoffel(n), vorwiegend festkochend,...</td>\n",
       "      <td>Die Kartoffeln schälen und gut waschen. Danach...</td>\n",
       "      <td>March</td>\n",
       "      <td>Süße Schupfnudeln</td>\n",
       "      <td>https://www.chefkoch.de/rezepte/801361183877832/</td>\n",
       "      <td>Saturday</td>\n",
       "      <td>2008</td>\n",
       "    </tr>\n",
       "    <tr>\n",
       "      <th>24</th>\n",
       "      <td>1</td>\n",
       "      <td>[500 g Rindfleisch, 2 große Zwiebel(n), 750 ml...</td>\n",
       "      <td>Das Fleisch in mundgerechte Stücke schneiden. ...</td>\n",
       "      <td>November</td>\n",
       "      <td>Kürbis - Quiche</td>\n",
       "      <td>https://www.chefkoch.de/rezepte/693811171958939/</td>\n",
       "      <td>Thursday</td>\n",
       "      <td>2007</td>\n",
       "    </tr>\n",
       "    <tr>\n",
       "      <th>25</th>\n",
       "      <td>1</td>\n",
       "      <td>[500 g Schweinelende(n), 5 EL Mangochutney, 5 ...</td>\n",
       "      <td>Die Lende in 2 cm dicke Scheiben schneiden, di...</td>\n",
       "      <td>August</td>\n",
       "      <td>Mit Hackfleisch gefüllte Zucchini</td>\n",
       "      <td>https://www.chefkoch.de/rezepte/426681133610250/</td>\n",
       "      <td>Wednesday</td>\n",
       "      <td>2012</td>\n",
       "    </tr>\n",
       "    <tr>\n",
       "      <th>26</th>\n",
       "      <td>1</td>\n",
       "      <td>[200 g Champignons, 3 Zucchini, 1 Zwiebel(n), ...</td>\n",
       "      <td>50 g Champignons,1 Zucchini und die Zwiebel pu...</td>\n",
       "      <td>September</td>\n",
       "      <td>Fegato di Vitello alla Paesana</td>\n",
       "      <td>https://www.chefkoch.de/rezepte/986041204015916/</td>\n",
       "      <td>Monday</td>\n",
       "      <td>2008</td>\n",
       "    </tr>\n",
       "    <tr>\n",
       "      <th>27</th>\n",
       "      <td>1</td>\n",
       "      <td>[Für den Teig:, 600 g Mehl, 1 Pck. Trockenhefe...</td>\n",
       "      <td>Für den Teig die Hefe mit dem Wasser verrühren...</td>\n",
       "      <td>February</td>\n",
       "      <td>Türkische Pide mit Käse und Sucuk</td>\n",
       "      <td>https://www.chefkoch.de/rezepte/3321291493196664/</td>\n",
       "      <td>Thursday</td>\n",
       "      <td>2018</td>\n",
       "    </tr>\n",
       "    <tr>\n",
       "      <th>28</th>\n",
       "      <td>1</td>\n",
       "      <td>[125 g Haferflocken, zarte, 2 EL Mehl, 3 große...</td>\n",
       "      <td>Die Haferflocken, Mehl, Eier, Milch und Minera...</td>\n",
       "      <td>November</td>\n",
       "      <td>Entenkeulen à la bourguignonne</td>\n",
       "      <td>https://www.chefkoch.de/rezepte/194211082701408/</td>\n",
       "      <td>Sunday</td>\n",
       "      <td>2009</td>\n",
       "    </tr>\n",
       "    <tr>\n",
       "      <th>29</th>\n",
       "      <td>1</td>\n",
       "      <td>[80 g Linsen, rot, 1/2Dose Mais, 2 Lauchzwiebe...</td>\n",
       "      <td>Die Linsen gründlich waschen, in ca. 400 ml Wa...</td>\n",
       "      <td>October</td>\n",
       "      <td>Chili sin Carne</td>\n",
       "      <td>https://www.chefkoch.de/rezepte/595441159189225/</td>\n",
       "      <td>Tuesday</td>\n",
       "      <td>2013</td>\n",
       "    </tr>\n",
       "    <tr>\n",
       "      <th>...</th>\n",
       "      <td>...</td>\n",
       "      <td>...</td>\n",
       "      <td>...</td>\n",
       "      <td>...</td>\n",
       "      <td>...</td>\n",
       "      <td>...</td>\n",
       "      <td>...</td>\n",
       "      <td>...</td>\n",
       "    </tr>\n",
       "    <tr>\n",
       "      <th>12160</th>\n",
       "      <td>1</td>\n",
       "      <td>[1 1/2kg Spargel, Salz, 1 dl Zucker, 1 TL Butt...</td>\n",
       "      <td>Geschälten Spargel in kochendes Salzwasser mit...</td>\n",
       "      <td>April</td>\n",
       "      <td>Eier - Rouladen</td>\n",
       "      <td>https://www.chefkoch.de/rezepte/649241166259052/</td>\n",
       "      <td>Wednesday</td>\n",
       "      <td>2009</td>\n",
       "    </tr>\n",
       "    <tr>\n",
       "      <th>12161</th>\n",
       "      <td>1</td>\n",
       "      <td>[1 1/2kg Miesmuschel(n), 2 EL Olivenöl, 1 Zwie...</td>\n",
       "      <td>Olivenöl in einen Topf geben, darin die klein ...</td>\n",
       "      <td>September</td>\n",
       "      <td>Tomaten-Zucchini-Spaghetti</td>\n",
       "      <td>https://www.chefkoch.de/rezepte/47411016028870/</td>\n",
       "      <td>Wednesday</td>\n",
       "      <td>2004</td>\n",
       "    </tr>\n",
       "    <tr>\n",
       "      <th>12162</th>\n",
       "      <td>1</td>\n",
       "      <td>[600 g Hackfleisch (Rind), 1 Zwiebel(n), 1/2 G...</td>\n",
       "      <td>Die Zwiebeln hacken und in reichlich kräftigem...</td>\n",
       "      <td>May</td>\n",
       "      <td>Gebratener Spargel mit Bärlauch</td>\n",
       "      <td>https://www.chefkoch.de/rezepte/484321142504513/</td>\n",
       "      <td>Monday</td>\n",
       "      <td>2017</td>\n",
       "    </tr>\n",
       "    <tr>\n",
       "      <th>12163</th>\n",
       "      <td>1</td>\n",
       "      <td>[500 g Bandnudeln, 400 g Rinderfilet(s), 150 g...</td>\n",
       "      <td>Sahne in einem Topf langsam erwärmen, den Käse...</td>\n",
       "      <td>November</td>\n",
       "      <td>Kürbis-Orangen-Waffeln</td>\n",
       "      <td>https://www.chefkoch.de/rezepte/112251047047207/</td>\n",
       "      <td>Saturday</td>\n",
       "      <td>2003</td>\n",
       "    </tr>\n",
       "    <tr>\n",
       "      <th>12164</th>\n",
       "      <td>1</td>\n",
       "      <td>[1500 g Kaninchen, 150 g Salami, 150 g Schinke...</td>\n",
       "      <td>Das Kaninchen in Stücke schneiden. In einer Pf...</td>\n",
       "      <td>January</td>\n",
       "      <td>Rehkeule mit Bratäpfel</td>\n",
       "      <td>https://www.chefkoch.de/rezepte/258401101311200/</td>\n",
       "      <td>Tuesday</td>\n",
       "      <td>2008</td>\n",
       "    </tr>\n",
       "    <tr>\n",
       "      <th>12165</th>\n",
       "      <td>1</td>\n",
       "      <td>[500 g Rindfleisch zum Kurzbraten, 30 ml Sonne...</td>\n",
       "      <td>Das Rindfleisch in Scheiben von 0,5 cm schneid...</td>\n",
       "      <td>February</td>\n",
       "      <td>Yufka mit Gemüse- und Rindfleischfüllung</td>\n",
       "      <td>https://www.chefkoch.de/rezepte/3166401471346519/</td>\n",
       "      <td>Wednesday</td>\n",
       "      <td>2017</td>\n",
       "    </tr>\n",
       "    <tr>\n",
       "      <th>12166</th>\n",
       "      <td>1</td>\n",
       "      <td>[1 Ente(n), ca. 3 kg, frisch, 3 Äpfel, 2 Zwieb...</td>\n",
       "      <td>Ente waschen, Flügel, Gurgel und Bürzel abschn...</td>\n",
       "      <td>November</td>\n",
       "      <td>Apfel - Reis - Auflauf</td>\n",
       "      <td>https://www.chefkoch.de/rezepte/68701025520467/</td>\n",
       "      <td>Saturday</td>\n",
       "      <td>2008</td>\n",
       "    </tr>\n",
       "    <tr>\n",
       "      <th>12167</th>\n",
       "      <td>1</td>\n",
       "      <td>[100 g Grieß, 3 Möhre(n), 1 Kohlrabi, 150 g Bo...</td>\n",
       "      <td>200 ml Salzwasser zum Kochen bringen. Den Grie...</td>\n",
       "      <td>September</td>\n",
       "      <td>Chilinudeln mit Cashewnüssen</td>\n",
       "      <td>https://www.chefkoch.de/rezepte/454511138130621/</td>\n",
       "      <td>Saturday</td>\n",
       "      <td>2018</td>\n",
       "    </tr>\n",
       "    <tr>\n",
       "      <th>12168</th>\n",
       "      <td>1</td>\n",
       "      <td>[1 kg Schweinenacken oder Lammfleisch, 1 große...</td>\n",
       "      <td>Das Fleisch in etwa 2 x 2 cm große Würfel schn...</td>\n",
       "      <td>March</td>\n",
       "      <td>Chop Suey für Figurbewusste</td>\n",
       "      <td>https://www.chefkoch.de/rezepte/1190141224855143/</td>\n",
       "      <td>Saturday</td>\n",
       "      <td>2014</td>\n",
       "    </tr>\n",
       "    <tr>\n",
       "      <th>12169</th>\n",
       "      <td>1</td>\n",
       "      <td>[300 ml Geflügelfond, 250 g Couscous (instant)...</td>\n",
       "      <td>Den Geflügelfond aufkochen lassen und den Cous...</td>\n",
       "      <td>August</td>\n",
       "      <td>Pangasius aus dem Pergament</td>\n",
       "      <td>https://www.chefkoch.de/rezepte/621241162388878/</td>\n",
       "      <td>Friday</td>\n",
       "      <td>2008</td>\n",
       "    </tr>\n",
       "    <tr>\n",
       "      <th>12170</th>\n",
       "      <td>1</td>\n",
       "      <td>[800 g Maultaschen, 12 große Champignons, brau...</td>\n",
       "      <td>Die Maultaschen in ca. 0,5 cm starke Streifen ...</td>\n",
       "      <td>September</td>\n",
       "      <td>Fenchel - Tomaten - Spagetti</td>\n",
       "      <td>https://www.chefkoch.de/rezepte/76891029335253/</td>\n",
       "      <td>Thursday</td>\n",
       "      <td>2005</td>\n",
       "    </tr>\n",
       "    <tr>\n",
       "      <th>12171</th>\n",
       "      <td>1</td>\n",
       "      <td>[2 Dose/n Mais, 2 EL Gemüsebrühe, gekörnte, 4 ...</td>\n",
       "      <td>Den Mais abtropfen lassen. 1 l Wasser mit der ...</td>\n",
       "      <td>October</td>\n",
       "      <td>Tarte au Ratatouille</td>\n",
       "      <td>https://www.chefkoch.de/rezepte/780911181205499/</td>\n",
       "      <td>Saturday</td>\n",
       "      <td>2016</td>\n",
       "    </tr>\n",
       "    <tr>\n",
       "      <th>12172</th>\n",
       "      <td>1</td>\n",
       "      <td>[1 kg Gulasch (Rind), 100 g Speck, durchwachse...</td>\n",
       "      <td>Den Speck würfeln und bei milder Hitze auslass...</td>\n",
       "      <td>October</td>\n",
       "      <td>Überbackene Rigatoni in Schinken-Sahne-Soße</td>\n",
       "      <td>https://www.chefkoch.de/rezepte/2118401341296891/</td>\n",
       "      <td>Monday</td>\n",
       "      <td>2012</td>\n",
       "    </tr>\n",
       "    <tr>\n",
       "      <th>12173</th>\n",
       "      <td>1</td>\n",
       "      <td>[750 g Bohnen, grüne, 1 Bund Bohnenkraut, 1 Pc...</td>\n",
       "      <td>Bohnen waschen, putzen und in ca. 4 cm lange S...</td>\n",
       "      <td>August</td>\n",
       "      <td>Mit Hackfleisch gefüllte Zucchini</td>\n",
       "      <td>https://www.chefkoch.de/rezepte/426681133610250/</td>\n",
       "      <td>Wednesday</td>\n",
       "      <td>2012</td>\n",
       "    </tr>\n",
       "    <tr>\n",
       "      <th>12174</th>\n",
       "      <td>1</td>\n",
       "      <td>[4 Karotte(n), 1/4 Knollensellerie, 1 m.-große...</td>\n",
       "      <td>Die Karotten und den Sellerie schälen und in g...</td>\n",
       "      <td>February</td>\n",
       "      <td>Gong Bao Chicken</td>\n",
       "      <td>https://www.chefkoch.de/rezepte/1594721266741395/</td>\n",
       "      <td>Saturday</td>\n",
       "      <td>2014</td>\n",
       "    </tr>\n",
       "    <tr>\n",
       "      <th>12175</th>\n",
       "      <td>1</td>\n",
       "      <td>[500 g Kohlrabi, 400 g Hähnchenbrust, 2 TL Spe...</td>\n",
       "      <td>Das Fleisch in kleine Würfel schneiden. Die Hä...</td>\n",
       "      <td>March</td>\n",
       "      <td>Kohl mit Kartoffeln</td>\n",
       "      <td>https://www.chefkoch.de/rezepte/413001131310634/</td>\n",
       "      <td>Monday</td>\n",
       "      <td>2010</td>\n",
       "    </tr>\n",
       "    <tr>\n",
       "      <th>12176</th>\n",
       "      <td>1</td>\n",
       "      <td>[450 ml Wasser, 2 EL Sojasauce, 200 g Couscous...</td>\n",
       "      <td>Das Wasser mit der Sojasauce (gehört klassisch...</td>\n",
       "      <td>August</td>\n",
       "      <td>Fladenbrotpizza \"Napoli\"</td>\n",
       "      <td>https://www.chefkoch.de/rezepte/2520471395234003/</td>\n",
       "      <td>Wednesday</td>\n",
       "      <td>2018</td>\n",
       "    </tr>\n",
       "    <tr>\n",
       "      <th>12177</th>\n",
       "      <td>1</td>\n",
       "      <td>[400 g Kartoffel(n), 3 Möhre(n), 3 Tomate(n), ...</td>\n",
       "      <td>Kartoffeln schälen und klein würfeln. Möhren s...</td>\n",
       "      <td>July</td>\n",
       "      <td>Spare Ribs</td>\n",
       "      <td>https://www.chefkoch.de/rezepte/1101101216097184/</td>\n",
       "      <td>Sunday</td>\n",
       "      <td>2012</td>\n",
       "    </tr>\n",
       "    <tr>\n",
       "      <th>12178</th>\n",
       "      <td>1</td>\n",
       "      <td>[3 Stiel/e Petersilie, 2 Stiel/e Salbei, 30 g ...</td>\n",
       "      <td>Die Kräuter waschen und, bis auf einige Salbei...</td>\n",
       "      <td>May</td>\n",
       "      <td>Pasta estiva</td>\n",
       "      <td>https://www.chefkoch.de/rezepte/1195331225283511/</td>\n",
       "      <td>Tuesday</td>\n",
       "      <td>2018</td>\n",
       "    </tr>\n",
       "    <tr>\n",
       "      <th>12179</th>\n",
       "      <td>1</td>\n",
       "      <td>[1 Papaya, reif, am besten eine Flug-Papaya, c...</td>\n",
       "      <td>Die Papaya schälen, die Kerne entfernen und au...</td>\n",
       "      <td>July</td>\n",
       "      <td>Hähnchen-Zucchini-Geschnetzeltes mit Kokosmilch</td>\n",
       "      <td>https://www.chefkoch.de/rezepte/2576301403768549/</td>\n",
       "      <td>Wednesday</td>\n",
       "      <td>2015</td>\n",
       "    </tr>\n",
       "    <tr>\n",
       "      <th>12180</th>\n",
       "      <td>1</td>\n",
       "      <td>[1 kg Bohnen (Buschbohnen oder 1 Glas grüne Sc...</td>\n",
       "      <td>Die Bohnen waschen, putzen und in feine, lange...</td>\n",
       "      <td>August</td>\n",
       "      <td>Spaghetti Siracusani</td>\n",
       "      <td>https://www.chefkoch.de/rezepte/318661113606205/</td>\n",
       "      <td>Monday</td>\n",
       "      <td>2011</td>\n",
       "    </tr>\n",
       "    <tr>\n",
       "      <th>12181</th>\n",
       "      <td>1</td>\n",
       "      <td>[1 Geflügelklein, 400 g Suppengrün, 1 kleiner ...</td>\n",
       "      <td>Das gesäuberte Geflügelklein in einen größeren...</td>\n",
       "      <td>July</td>\n",
       "      <td>Miris feine Knoblauchspaghetti</td>\n",
       "      <td>https://www.chefkoch.de/rezepte/280951106186874/</td>\n",
       "      <td>Saturday</td>\n",
       "      <td>2006</td>\n",
       "    </tr>\n",
       "    <tr>\n",
       "      <th>12182</th>\n",
       "      <td>1</td>\n",
       "      <td>[4 Ei(er), 300 g Mehl, 500 ml Buttermilch, 1 P...</td>\n",
       "      <td>Alle Zutaten, bis auf das Wasser, in einem Kru...</td>\n",
       "      <td>May</td>\n",
       "      <td>Estragon - Braten</td>\n",
       "      <td>https://www.chefkoch.de/rezepte/1459501250862260/</td>\n",
       "      <td>Sunday</td>\n",
       "      <td>2011</td>\n",
       "    </tr>\n",
       "    <tr>\n",
       "      <th>12183</th>\n",
       "      <td>1</td>\n",
       "      <td>[3 Hähnchenbrüste ohne Knochen, 150 g Wurst (C...</td>\n",
       "      <td>Hähnchenbrüste in je 3 Stücke teilen. Wurst hä...</td>\n",
       "      <td>July</td>\n",
       "      <td>Miris feine Knoblauchspaghetti</td>\n",
       "      <td>https://www.chefkoch.de/rezepte/280951106186874/</td>\n",
       "      <td>Saturday</td>\n",
       "      <td>2006</td>\n",
       "    </tr>\n",
       "    <tr>\n",
       "      <th>12184</th>\n",
       "      <td>1</td>\n",
       "      <td>[150 g Butter oder Magarine, 50 g Zucker, 4 Ei...</td>\n",
       "      <td>Zuerst die Butter mit dem Zucker schaumig rühr...</td>\n",
       "      <td>November</td>\n",
       "      <td>Kürbis-Orangen-Waffeln</td>\n",
       "      <td>https://www.chefkoch.de/rezepte/112251047047207/</td>\n",
       "      <td>Saturday</td>\n",
       "      <td>2003</td>\n",
       "    </tr>\n",
       "    <tr>\n",
       "      <th>12185</th>\n",
       "      <td>1</td>\n",
       "      <td>[3 EL Butter, 800 g Rinderbraten (Schulter ode...</td>\n",
       "      <td>In einem nicht allzu großen Topf die Butter er...</td>\n",
       "      <td>January</td>\n",
       "      <td>Herzhafte Pfannkuchen</td>\n",
       "      <td>https://www.chefkoch.de/rezepte/1547251261244879/</td>\n",
       "      <td>Tuesday</td>\n",
       "      <td>2019</td>\n",
       "    </tr>\n",
       "    <tr>\n",
       "      <th>12186</th>\n",
       "      <td>1</td>\n",
       "      <td>[1/2 Salatgurke(n), 250 g Käse (Emmentaler), 1...</td>\n",
       "      <td>Gurke waschen und in dünne Scheiben schneiden....</td>\n",
       "      <td>September</td>\n",
       "      <td>Tomaten-Zucchini-Spaghetti</td>\n",
       "      <td>https://www.chefkoch.de/rezepte/47411016028870/</td>\n",
       "      <td>Wednesday</td>\n",
       "      <td>2004</td>\n",
       "    </tr>\n",
       "    <tr>\n",
       "      <th>12187</th>\n",
       "      <td>1</td>\n",
       "      <td>[1 kg Schmorgurke(n), 1 kl. Dose/n Tomate(n), ...</td>\n",
       "      <td>Die Gurken schälen und längs halbieren. Das In...</td>\n",
       "      <td>September</td>\n",
       "      <td>Am Spieß gebratenes Schweinefleisch mit Malzex...</td>\n",
       "      <td>https://www.chefkoch.de/rezepte/1102041216136522/</td>\n",
       "      <td>Saturday</td>\n",
       "      <td>2012</td>\n",
       "    </tr>\n",
       "    <tr>\n",
       "      <th>12188</th>\n",
       "      <td>1</td>\n",
       "      <td>[Für den Fond:, 500 g Knochen vom Wild, 1/2Bun...</td>\n",
       "      <td>Die Knochen mit der Hälfte des Wurzelwerkes, d...</td>\n",
       "      <td>February</td>\n",
       "      <td>Geflügelsalat</td>\n",
       "      <td>https://www.chefkoch.de/rezepte/897988359371/</td>\n",
       "      <td>Saturday</td>\n",
       "      <td>2003</td>\n",
       "    </tr>\n",
       "    <tr>\n",
       "      <th>12189</th>\n",
       "      <td>1</td>\n",
       "      <td>[375 g Mehl (Weizenmehl, Weizenvollkornmehl), ...</td>\n",
       "      <td>Aus Mehl, Hefe, den Gewürzen, Ei, Milch und de...</td>\n",
       "      <td>October</td>\n",
       "      <td>Serbischer Paprikaeintopf</td>\n",
       "      <td>https://www.chefkoch.de/rezepte/34751011686647/</td>\n",
       "      <td>Wednesday</td>\n",
       "      <td>2003</td>\n",
       "    </tr>\n",
       "  </tbody>\n",
       "</table>\n",
       "<p>12190 rows × 8 columns</p>\n",
       "</div>"
      ],
      "text/plain": [
       "       Day                                        Ingredients  \\\n",
       "0        1  [600 g Hackfleisch, halb und halb, 800 g Sauer...   \n",
       "1        1  [1 kg Strauchtomate(n), 1 Gemüsezwiebel(n), 1 ...   \n",
       "2        1  [1 Glas Kirsche(n), 1 Pck. Vanillepuddingpulve...   \n",
       "3        1  [500 g Spargel, grüner, 300 ml Brühe oder Fond...   \n",
       "4        1  [250 g Kohlrabi, 150 ml Gemüsebrühe, 150 ml Mi...   \n",
       "5        1  [Für den Mürbeteig:, 200 g Weizenmehl, 100 g B...   \n",
       "6        1  [Für die Marinade:, 3 EL Öl, 5 EL Rotwein, 2 E...   \n",
       "7        1  [1 Tasse Reis, (Langkornreis), 2 Tasse/n Wasse...   \n",
       "8        1  [1200 g Kartoffel(n), mehlig kochend, 250 ml M...   \n",
       "9        1  [400 g Kartoffel(n), 300 g Steckrübe(n), 300 g...   \n",
       "10       1  [750 g Rinderbraten, mager, Salz und Pfeffer, ...   \n",
       "11       1  [8 Schweineschnitzel, 4 EL Senf, 16 Scheibe/n ...   \n",
       "12       1  [1 Chilischote(n), 1 Würfel Gemüsebrühe, 200 m...   \n",
       "13       1  [1 Radicchio (ca. 150g), 1 Birne(n), reife, 10...   \n",
       "14       1  [1,1 kg Kalbfleisch (Tafelspitz), 2 EL Senf, m...   \n",
       "15       1  [500 g Hackfleisch, gemischt, evtl. Kräuter (O...   \n",
       "16       1  [2 Ei(er), 1/4Liter Milch, ungefähre Mengenang...   \n",
       "17       1  [800 g Gulasch vom Schwein (nicht zu groß gesc...   \n",
       "18       1  [120 g Mehl, Salz, 250 ml Milch, 5 Ei(er), 1 S...   \n",
       "19       1  [700 g Kartoffel(n), Salz, 2 Zwiebel(n), 1 Zeh...   \n",
       "20       1  [500 g Püree aus Kartoffeln, vom Vortag, kalt,...   \n",
       "21       1  [500 g Kartoffel(n), 500 g Süßkartoffel(n), 2 ...   \n",
       "22       1  [700 g Gemüse, z. B. Kartoffeln und Kürbis, Zu...   \n",
       "23       1  [7 dicke Kartoffel(n), vorwiegend festkochend,...   \n",
       "24       1  [500 g Rindfleisch, 2 große Zwiebel(n), 750 ml...   \n",
       "25       1  [500 g Schweinelende(n), 5 EL Mangochutney, 5 ...   \n",
       "26       1  [200 g Champignons, 3 Zucchini, 1 Zwiebel(n), ...   \n",
       "27       1  [Für den Teig:, 600 g Mehl, 1 Pck. Trockenhefe...   \n",
       "28       1  [125 g Haferflocken, zarte, 2 EL Mehl, 3 große...   \n",
       "29       1  [80 g Linsen, rot, 1/2Dose Mais, 2 Lauchzwiebe...   \n",
       "...    ...                                                ...   \n",
       "12160    1  [1 1/2kg Spargel, Salz, 1 dl Zucker, 1 TL Butt...   \n",
       "12161    1  [1 1/2kg Miesmuschel(n), 2 EL Olivenöl, 1 Zwie...   \n",
       "12162    1  [600 g Hackfleisch (Rind), 1 Zwiebel(n), 1/2 G...   \n",
       "12163    1  [500 g Bandnudeln, 400 g Rinderfilet(s), 150 g...   \n",
       "12164    1  [1500 g Kaninchen, 150 g Salami, 150 g Schinke...   \n",
       "12165    1  [500 g Rindfleisch zum Kurzbraten, 30 ml Sonne...   \n",
       "12166    1  [1 Ente(n), ca. 3 kg, frisch, 3 Äpfel, 2 Zwieb...   \n",
       "12167    1  [100 g Grieß, 3 Möhre(n), 1 Kohlrabi, 150 g Bo...   \n",
       "12168    1  [1 kg Schweinenacken oder Lammfleisch, 1 große...   \n",
       "12169    1  [300 ml Geflügelfond, 250 g Couscous (instant)...   \n",
       "12170    1  [800 g Maultaschen, 12 große Champignons, brau...   \n",
       "12171    1  [2 Dose/n Mais, 2 EL Gemüsebrühe, gekörnte, 4 ...   \n",
       "12172    1  [1 kg Gulasch (Rind), 100 g Speck, durchwachse...   \n",
       "12173    1  [750 g Bohnen, grüne, 1 Bund Bohnenkraut, 1 Pc...   \n",
       "12174    1  [4 Karotte(n), 1/4 Knollensellerie, 1 m.-große...   \n",
       "12175    1  [500 g Kohlrabi, 400 g Hähnchenbrust, 2 TL Spe...   \n",
       "12176    1  [450 ml Wasser, 2 EL Sojasauce, 200 g Couscous...   \n",
       "12177    1  [400 g Kartoffel(n), 3 Möhre(n), 3 Tomate(n), ...   \n",
       "12178    1  [3 Stiel/e Petersilie, 2 Stiel/e Salbei, 30 g ...   \n",
       "12179    1  [1 Papaya, reif, am besten eine Flug-Papaya, c...   \n",
       "12180    1  [1 kg Bohnen (Buschbohnen oder 1 Glas grüne Sc...   \n",
       "12181    1  [1 Geflügelklein, 400 g Suppengrün, 1 kleiner ...   \n",
       "12182    1  [4 Ei(er), 300 g Mehl, 500 ml Buttermilch, 1 P...   \n",
       "12183    1  [3 Hähnchenbrüste ohne Knochen, 150 g Wurst (C...   \n",
       "12184    1  [150 g Butter oder Magarine, 50 g Zucker, 4 Ei...   \n",
       "12185    1  [3 EL Butter, 800 g Rinderbraten (Schulter ode...   \n",
       "12186    1  [1/2 Salatgurke(n), 250 g Käse (Emmentaler), 1...   \n",
       "12187    1  [1 kg Schmorgurke(n), 1 kl. Dose/n Tomate(n), ...   \n",
       "12188    1  [Für den Fond:, 500 g Knochen vom Wild, 1/2Bun...   \n",
       "12189    1  [375 g Mehl (Weizenmehl, Weizenvollkornmehl), ...   \n",
       "\n",
       "                                            Instructions      Month  \\\n",
       "0      Die Eier hart kochen. Dann pellen und mit eine...    January   \n",
       "1      Vorab folgende Bemerkung: Alle Mengen sind Cir...       July   \n",
       "2      Die Kirschen abtropfen lassen, dabei den Saft ...    January   \n",
       "3      Den Spargel säubern, die holzigen Enden abschn...      April   \n",
       "4      Kohlrabi schälen und klein würfeln. Mit der Br...     August   \n",
       "5      Aus dem Mehl, der Butter, dem Ei und etwas Sal...     August   \n",
       "6      Das Öl mit dem Rotwein, dem Essig, den Wachold...    October   \n",
       "7      Den Reis mit 2 Tassen Wasser/Gemüsebrühe aufse...      March   \n",
       "8      Kartoffeln schälen, waschen, vierteln und in k...      April   \n",
       "9      Kartoffeln, Steckrüben, Sellerie und Zwiebel s...   November   \n",
       "10     Fleisch würzen. Öl in einem Topf erhitzen. Das...       July   \n",
       "11     Schweineschnitzel dünn klopfen, mit Senf bestr...    January   \n",
       "12     Die Chilischote (scharf) entkernen, von den In...   December   \n",
       "13     Radicchio waschen, rüsten, in mundgerechte Stü...  September   \n",
       "14     Den Kalbstafelspitz kurz waschen und auf der F...    October   \n",
       "15     Das Hackfleisch mit Salz und Pfeffer würzen. E...      March   \n",
       "16     Die Eier verquirlen, Milch, Mehl und eine Pris...        May   \n",
       "17     Zwiebel in Viertel schneiden ( in etwas wie di...       June   \n",
       "18     Mehl mit Salz mischen. Milch und 4 Eier unterr...       July   \n",
       "19     Kartoffeln schälen, bei Bedarf kleiner schneid...  September   \n",
       "20     Das kalte Kartoffelpüree mit den angegebenen Z...   December   \n",
       "21     Den Backofen vorheizen auf 180 °C Ober-/Unterh...    January   \n",
       "22     Gemüse schälen, auf der Reibe grob raspeln. Zw...    January   \n",
       "23     Die Kartoffeln schälen und gut waschen. Danach...      March   \n",
       "24     Das Fleisch in mundgerechte Stücke schneiden. ...   November   \n",
       "25     Die Lende in 2 cm dicke Scheiben schneiden, di...     August   \n",
       "26     50 g Champignons,1 Zucchini und die Zwiebel pu...  September   \n",
       "27     Für den Teig die Hefe mit dem Wasser verrühren...   February   \n",
       "28     Die Haferflocken, Mehl, Eier, Milch und Minera...   November   \n",
       "29     Die Linsen gründlich waschen, in ca. 400 ml Wa...    October   \n",
       "...                                                  ...        ...   \n",
       "12160  Geschälten Spargel in kochendes Salzwasser mit...      April   \n",
       "12161  Olivenöl in einen Topf geben, darin die klein ...  September   \n",
       "12162  Die Zwiebeln hacken und in reichlich kräftigem...        May   \n",
       "12163  Sahne in einem Topf langsam erwärmen, den Käse...   November   \n",
       "12164  Das Kaninchen in Stücke schneiden. In einer Pf...    January   \n",
       "12165  Das Rindfleisch in Scheiben von 0,5 cm schneid...   February   \n",
       "12166  Ente waschen, Flügel, Gurgel und Bürzel abschn...   November   \n",
       "12167  200 ml Salzwasser zum Kochen bringen. Den Grie...  September   \n",
       "12168  Das Fleisch in etwa 2 x 2 cm große Würfel schn...      March   \n",
       "12169  Den Geflügelfond aufkochen lassen und den Cous...     August   \n",
       "12170  Die Maultaschen in ca. 0,5 cm starke Streifen ...  September   \n",
       "12171  Den Mais abtropfen lassen. 1 l Wasser mit der ...    October   \n",
       "12172  Den Speck würfeln und bei milder Hitze auslass...    October   \n",
       "12173  Bohnen waschen, putzen und in ca. 4 cm lange S...     August   \n",
       "12174  Die Karotten und den Sellerie schälen und in g...   February   \n",
       "12175  Das Fleisch in kleine Würfel schneiden. Die Hä...      March   \n",
       "12176  Das Wasser mit der Sojasauce (gehört klassisch...     August   \n",
       "12177  Kartoffeln schälen und klein würfeln. Möhren s...       July   \n",
       "12178  Die Kräuter waschen und, bis auf einige Salbei...        May   \n",
       "12179  Die Papaya schälen, die Kerne entfernen und au...       July   \n",
       "12180  Die Bohnen waschen, putzen und in feine, lange...     August   \n",
       "12181  Das gesäuberte Geflügelklein in einen größeren...       July   \n",
       "12182  Alle Zutaten, bis auf das Wasser, in einem Kru...        May   \n",
       "12183  Hähnchenbrüste in je 3 Stücke teilen. Wurst hä...       July   \n",
       "12184  Zuerst die Butter mit dem Zucker schaumig rühr...   November   \n",
       "12185  In einem nicht allzu großen Topf die Butter er...    January   \n",
       "12186  Gurke waschen und in dünne Scheiben schneiden....  September   \n",
       "12187  Die Gurken schälen und längs halbieren. Das In...  September   \n",
       "12188  Die Knochen mit der Hälfte des Wurzelwerkes, d...   February   \n",
       "12189  Aus Mehl, Hefe, den Gewürzen, Ei, Milch und de...    October   \n",
       "\n",
       "                                                    Name  \\\n",
       "0                                 Gebratener Hasenrücken   \n",
       "1                                        Pilz Stroganoff   \n",
       "2                                   Kaninchen a la Gioff   \n",
       "3                         Spanisches Knoblauch-Kaninchen   \n",
       "4                  Gnocchi - Hack - Pfanne mit Basilikum   \n",
       "5                                   Spaghetti Siracusani   \n",
       "6            Rehrücken in Salzkruste mit Waldpilzgulasch   \n",
       "7                                      Eier in Senfsauce   \n",
       "8                                  Äppelufflaaf mett Woi   \n",
       "9                              Gefüllte Schinkenröllchen   \n",
       "10                                  Leichtes Mittagessen   \n",
       "11                                 Herzhafte Pfannkuchen   \n",
       "12                                         Raizenkarpfen   \n",
       "13                                    Bulgur Buddha Bowl   \n",
       "14           Überbackene Rigatoni in Schinken-Sahne-Soße   \n",
       "15                                   Gittas Schmorgurken   \n",
       "16                         Griechische Hackfleischquiche   \n",
       "17                           Kartoffelgratin mit Cheddar   \n",
       "18                                Sahne-Kräuter-Hähnchen   \n",
       "19     Rotbarschfilet auf pürierten Tomaten mit Zucch...   \n",
       "20                             Bayerische Schinkennudeln   \n",
       "21                                 Herzhafte Pfannkuchen   \n",
       "22                                Gebratener Hasenrücken   \n",
       "23                                     Süße Schupfnudeln   \n",
       "24                                       Kürbis - Quiche   \n",
       "25                     Mit Hackfleisch gefüllte Zucchini   \n",
       "26                        Fegato di Vitello alla Paesana   \n",
       "27                     Türkische Pide mit Käse und Sucuk   \n",
       "28                        Entenkeulen à la bourguignonne   \n",
       "29                                       Chili sin Carne   \n",
       "...                                                  ...   \n",
       "12160                                    Eier - Rouladen   \n",
       "12161                         Tomaten-Zucchini-Spaghetti   \n",
       "12162                    Gebratener Spargel mit Bärlauch   \n",
       "12163                             Kürbis-Orangen-Waffeln   \n",
       "12164                             Rehkeule mit Bratäpfel   \n",
       "12165           Yufka mit Gemüse- und Rindfleischfüllung   \n",
       "12166                             Apfel - Reis - Auflauf   \n",
       "12167                       Chilinudeln mit Cashewnüssen   \n",
       "12168                        Chop Suey für Figurbewusste   \n",
       "12169                        Pangasius aus dem Pergament   \n",
       "12170                       Fenchel - Tomaten - Spagetti   \n",
       "12171                               Tarte au Ratatouille   \n",
       "12172        Überbackene Rigatoni in Schinken-Sahne-Soße   \n",
       "12173                  Mit Hackfleisch gefüllte Zucchini   \n",
       "12174                                   Gong Bao Chicken   \n",
       "12175                                Kohl mit Kartoffeln   \n",
       "12176                           Fladenbrotpizza \"Napoli\"   \n",
       "12177                                         Spare Ribs   \n",
       "12178                                       Pasta estiva   \n",
       "12179    Hähnchen-Zucchini-Geschnetzeltes mit Kokosmilch   \n",
       "12180                               Spaghetti Siracusani   \n",
       "12181                     Miris feine Knoblauchspaghetti   \n",
       "12182                                  Estragon - Braten   \n",
       "12183                     Miris feine Knoblauchspaghetti   \n",
       "12184                             Kürbis-Orangen-Waffeln   \n",
       "12185                              Herzhafte Pfannkuchen   \n",
       "12186                         Tomaten-Zucchini-Spaghetti   \n",
       "12187  Am Spieß gebratenes Schweinefleisch mit Malzex...   \n",
       "12188                                      Geflügelsalat   \n",
       "12189                          Serbischer Paprikaeintopf   \n",
       "\n",
       "                                                     Url    Weekday  Year  \n",
       "0       https://www.chefkoch.de/rezepte/185441079701305/   Thursday  2009  \n",
       "1      https://www.chefkoch.de/rezepte/2718181424631245/   Saturday  2017  \n",
       "2        https://www.chefkoch.de/rezepte/46341015661368/     Monday  2007  \n",
       "3        https://www.chefkoch.de/rezepte/51051018014178/     Monday  2013  \n",
       "4      https://www.chefkoch.de/rezepte/1555771262860408/    Tuesday  2017  \n",
       "5       https://www.chefkoch.de/rezepte/318661113606205/     Monday  2011  \n",
       "6       https://www.chefkoch.de/rezepte/307991111110164/     Sunday  2006  \n",
       "7       https://www.chefkoch.de/rezepte/800291183649658/   Thursday  2012  \n",
       "8       https://www.chefkoch.de/rezepte/295691108953224/   Saturday  2006  \n",
       "9        https://www.chefkoch.de/rezepte/44381015086527/  Wednesday  2006  \n",
       "10      https://www.chefkoch.de/rezepte/968531202489769/   Thursday  2010  \n",
       "11     https://www.chefkoch.de/rezepte/1547251261244879/    Tuesday  2019  \n",
       "12      https://www.chefkoch.de/rezepte/121811051714864/     Friday  2006  \n",
       "13     https://www.chefkoch.de/rezepte/3116611464630134/   Thursday  2016  \n",
       "14     https://www.chefkoch.de/rezepte/2118401341296891/     Monday  2012  \n",
       "15      https://www.chefkoch.de/rezepte/616691161699398/  Wednesday  2017  \n",
       "16     https://www.chefkoch.de/rezepte/1403841245257043/   Saturday  2010  \n",
       "17        https://www.chefkoch.de/rezepte/1320990972985/   Thursday  2006  \n",
       "18        https://www.chefkoch.de/rezepte/1135989064911/     Sunday  2007  \n",
       "19      https://www.chefkoch.de/rezepte/311161112317127/     Friday  2006  \n",
       "20      https://www.chefkoch.de/rezepte/647661166019191/   Thursday  2016  \n",
       "21     https://www.chefkoch.de/rezepte/1547251261244879/    Tuesday  2019  \n",
       "22      https://www.chefkoch.de/rezepte/185441079701305/   Thursday  2009  \n",
       "23      https://www.chefkoch.de/rezepte/801361183877832/   Saturday  2008  \n",
       "24      https://www.chefkoch.de/rezepte/693811171958939/   Thursday  2007  \n",
       "25      https://www.chefkoch.de/rezepte/426681133610250/  Wednesday  2012  \n",
       "26      https://www.chefkoch.de/rezepte/986041204015916/     Monday  2008  \n",
       "27     https://www.chefkoch.de/rezepte/3321291493196664/   Thursday  2018  \n",
       "28      https://www.chefkoch.de/rezepte/194211082701408/     Sunday  2009  \n",
       "29      https://www.chefkoch.de/rezepte/595441159189225/    Tuesday  2013  \n",
       "...                                                  ...        ...   ...  \n",
       "12160   https://www.chefkoch.de/rezepte/649241166259052/  Wednesday  2009  \n",
       "12161    https://www.chefkoch.de/rezepte/47411016028870/  Wednesday  2004  \n",
       "12162   https://www.chefkoch.de/rezepte/484321142504513/     Monday  2017  \n",
       "12163   https://www.chefkoch.de/rezepte/112251047047207/   Saturday  2003  \n",
       "12164   https://www.chefkoch.de/rezepte/258401101311200/    Tuesday  2008  \n",
       "12165  https://www.chefkoch.de/rezepte/3166401471346519/  Wednesday  2017  \n",
       "12166    https://www.chefkoch.de/rezepte/68701025520467/   Saturday  2008  \n",
       "12167   https://www.chefkoch.de/rezepte/454511138130621/   Saturday  2018  \n",
       "12168  https://www.chefkoch.de/rezepte/1190141224855143/   Saturday  2014  \n",
       "12169   https://www.chefkoch.de/rezepte/621241162388878/     Friday  2008  \n",
       "12170    https://www.chefkoch.de/rezepte/76891029335253/   Thursday  2005  \n",
       "12171   https://www.chefkoch.de/rezepte/780911181205499/   Saturday  2016  \n",
       "12172  https://www.chefkoch.de/rezepte/2118401341296891/     Monday  2012  \n",
       "12173   https://www.chefkoch.de/rezepte/426681133610250/  Wednesday  2012  \n",
       "12174  https://www.chefkoch.de/rezepte/1594721266741395/   Saturday  2014  \n",
       "12175   https://www.chefkoch.de/rezepte/413001131310634/     Monday  2010  \n",
       "12176  https://www.chefkoch.de/rezepte/2520471395234003/  Wednesday  2018  \n",
       "12177  https://www.chefkoch.de/rezepte/1101101216097184/     Sunday  2012  \n",
       "12178  https://www.chefkoch.de/rezepte/1195331225283511/    Tuesday  2018  \n",
       "12179  https://www.chefkoch.de/rezepte/2576301403768549/  Wednesday  2015  \n",
       "12180   https://www.chefkoch.de/rezepte/318661113606205/     Monday  2011  \n",
       "12181   https://www.chefkoch.de/rezepte/280951106186874/   Saturday  2006  \n",
       "12182  https://www.chefkoch.de/rezepte/1459501250862260/     Sunday  2011  \n",
       "12183   https://www.chefkoch.de/rezepte/280951106186874/   Saturday  2006  \n",
       "12184   https://www.chefkoch.de/rezepte/112251047047207/   Saturday  2003  \n",
       "12185  https://www.chefkoch.de/rezepte/1547251261244879/    Tuesday  2019  \n",
       "12186    https://www.chefkoch.de/rezepte/47411016028870/  Wednesday  2004  \n",
       "12187  https://www.chefkoch.de/rezepte/1102041216136522/   Saturday  2012  \n",
       "12188      https://www.chefkoch.de/rezepte/897988359371/   Saturday  2003  \n",
       "12189    https://www.chefkoch.de/rezepte/34751011686647/  Wednesday  2003  \n",
       "\n",
       "[12190 rows x 8 columns]"
      ]
     },
     "execution_count": 6,
     "metadata": {},
     "output_type": "execute_result"
    }
   ],
   "source": [
    "df"
   ]
  },
  {
   "cell_type": "markdown",
   "metadata": {},
   "source": [
    "## Separamos en el dataframe"
   ]
  },
  {
   "cell_type": "code",
   "execution_count": 57,
   "metadata": {},
   "outputs": [
    {
     "data": {
      "text/plain": [
       "(1190, 8)"
      ]
     },
     "execution_count": 57,
     "metadata": {},
     "output_type": "execute_result"
    }
   ],
   "source": [
    "eval_df = df[11000:]\n",
    "eval_df.shape"
   ]
  },
  {
   "cell_type": "code",
   "execution_count": 65,
   "metadata": {},
   "outputs": [
    {
     "data": {
      "text/plain": [
       "(11000, 8)"
      ]
     },
     "execution_count": 65,
     "metadata": {},
     "output_type": "execute_result"
    }
   ],
   "source": [
    "df = df[:11000]\n",
    "df.shape"
   ]
  },
  {
   "cell_type": "markdown",
   "metadata": {},
   "source": [
    "# Tokenizar con Spacy"
   ]
  },
  {
   "cell_type": "code",
   "execution_count": 9,
   "metadata": {},
   "outputs": [
    {
     "name": "stdout",
     "output_type": "stream",
     "text": [
      "Collecting de_core_news_sm==2.0.0 from https://github.com/explosion/spacy-models/releases/download/de_core_news_sm-2.0.0/de_core_news_sm-2.0.0.tar.gz#egg=de_core_news_sm==2.0.0\n",
      "\u001b[?25l  Downloading https://github.com/explosion/spacy-models/releases/download/de_core_news_sm-2.0.0/de_core_news_sm-2.0.0.tar.gz (38.2MB)\n",
      "\u001b[K    100% |████████████████████████████████| 38.2MB 1.1MB/s ta 0:00:01\n",
      "\u001b[?25hInstalling collected packages: de-core-news-sm\n",
      "  Running setup.py install for de-core-news-sm ... \u001b[?25ldone\n",
      "\u001b[?25hSuccessfully installed de-core-news-sm-2.0.0\n",
      "\n",
      "\u001b[93m    Linking successful\u001b[0m\n",
      "    /LUSTRE/home/jurias/miniconda3/lib/python3.7/site-packages/de_core_news_sm\n",
      "    -->\n",
      "    /LUSTRE/home/jurias/miniconda3/lib/python3.7/site-packages/spacy/data/de_core_news_sm\n",
      "\n",
      "    You can now load the model via spacy.load('de_core_news_sm')\n",
      "\n"
     ]
    }
   ],
   "source": [
    "!python -m spacy download de_core_news_sm"
   ]
  },
  {
   "cell_type": "code",
   "execution_count": 10,
   "metadata": {},
   "outputs": [],
   "source": [
    "import spacy\n",
    "nlp = spacy.load('de_core_news_sm', disable=['parser', 'tagger', 'ner'])"
   ]
  },
  {
   "cell_type": "code",
   "execution_count": 11,
   "metadata": {},
   "outputs": [],
   "source": [
    "tokenized = [nlp(t) for t in df.Instructions.values]"
   ]
  },
  {
   "cell_type": "code",
   "execution_count": 12,
   "metadata": {},
   "outputs": [
    {
     "data": {
      "text/plain": [
       "Die Eier hart kochen. Dann pellen und mit einem Eierschneider in Scheiben schneiden. Den Reis halbgar kochen und zur Seite stellen. Die Wurst (Kolbász) in dünne Scheiben schneiden.Den Knoblauch abziehen und fein würfeln. Die Zwiebel schälen, fein hacken und in etwas Fett glasig braten. Knoblauch und Hackfleisch dazu geben und so lange braten, bis das Hackfleisch schön krümelig wird. Den eigenen Saft nicht ganz verkochen lassen. Die Fleischmasse mit Salz, Pfeffer und Paprikapulver würzen.Das Sauerkraut kurz durchspülen, ausdrücken und abtropfen lassen (damit es nicht zu sauer wird). Das Sauerkraut in einen Topf geben und mit dem Kümmel und den Lorbeerblättern vermischen. Ca. 30 Minuten unter Zugabe von wenig Wasser bei niedriger Stufe dünsten.Eine feuerfeste Form mit etwas Öl einfetten und den Boden dünn mit Sauerkraut belegen. Darauf Kolbász und die Hälfte der in Scheiben geschnittene Eier verteilen, dann eine weitere dünne Schicht Sauerkraut drüber legen. Mit 1 Becher Schmand bedecken. Nun das Hackfleisch mit dem Reis mischen und auf der Sauerkrautschicht gleichmäßig verteilen. Mit der zweiten Hälfte der Eier belegen und die dritte Schicht Sauerkraut oben drauf verteilen. Wenn noch Zutaten (Hackfleisch-Reis-Masse und Sauerkraut) übrig sind, kann man diese Schichten weiter so legen. Ganz oben kommt eine Schicht Sauerkraut. Auf diese letzte Schicht verteilt man noch den Rest vom Schmand (sollte reichlich sein). Den Speck in dünne Scheiben schneiden und damit alles abdecken. Mit etwas Öl besprenkeln. Die Form mit einem Deckel verschließend.Im vorgeheizten Backofen bei 175°C ober-/Unterhitze gut 1 Std. garen.Ganz frische Baguettebrötchen oder Weißbrot schmeckt am allerbesten dazu. Man kann aber auch Kartoffel- oder Semmelknödel dazu reichen. Etwas aufwendig, aber die Mühe lohnt sich... es ist einfach mega-ober-lecker.Anmerkung: Für viele sind Eier in Verbindung mit Sauerkraut ein No-Go, man kann sie also auch weglassen."
      ]
     },
     "execution_count": 12,
     "metadata": {},
     "output_type": "execute_result"
    }
   ],
   "source": [
    "tokenized[0]"
   ]
  },
  {
   "cell_type": "markdown",
   "metadata": {},
   "source": [
    "### Construimos el vocabulario"
   ]
  },
  {
   "cell_type": "code",
   "execution_count": 13,
   "metadata": {},
   "outputs": [
    {
     "name": "stdout",
     "output_type": "stream",
     "text": [
      "Number of unique tokens: 17968\n"
     ]
    }
   ],
   "source": [
    "vocab = {\"<UNK>\": 1, \"<PAD>\": 0}\n",
    "for txt in tokenized:\n",
    "    for token in txt:\n",
    "        if token.text not in vocab.keys():\n",
    "            vocab[token.text] = len(vocab)\n",
    "print(\"Number of unique tokens: {}\".format(len(vocab)))"
   ]
  },
  {
   "cell_type": "markdown",
   "metadata": {},
   "source": [
    "# Crear las etiquetas"
   ]
  },
  {
   "cell_type": "markdown",
   "metadata": {},
   "source": [
    "#### Nuestros datos no estan etiquetados pero podemos obtenerlos de la estructura."
   ]
  },
  {
   "cell_type": "code",
   "execution_count": 14,
   "metadata": {},
   "outputs": [],
   "source": [
    "ingredients = df.Ingredients"
   ]
  },
  {
   "cell_type": "code",
   "execution_count": 15,
   "metadata": {},
   "outputs": [
    {
     "data": {
      "text/plain": [
       "['600 g Hackfleisch, halb und halb',\n",
       " '800 g Sauerkraut',\n",
       " '200 g Wurst, geräucherte (Csabai Kolbász)',\n",
       " '150 g Speck, durchwachsener, geräucherter',\n",
       " '100 g Reis',\n",
       " '1 m.-große Zwiebel(n)',\n",
       " '1 Zehe/n Knoblauch',\n",
       " '2 Becher Schmand',\n",
       " '1/2TL Kümmel, ganzer',\n",
       " '2 Lorbeerblätter',\n",
       " 'Salz und Pfeffer',\n",
       " '4 Ei(er) (bei Bedarf)',\n",
       " 'Paprikapulver',\n",
       " 'etwas Wasser',\n",
       " 'Öl']"
      ]
     },
     "execution_count": 15,
     "metadata": {},
     "output_type": "execute_result"
    }
   ],
   "source": [
    "ingredients[0]"
   ]
  },
  {
   "cell_type": "markdown",
   "metadata": {},
   "source": [
    "#### Primero limpiamos la lista de ingredientes de numeros, stop words y otras cosas"
   ]
  },
  {
   "cell_type": "code",
   "execution_count": 16,
   "metadata": {},
   "outputs": [],
   "source": [
    "def _filter(token):\n",
    "    if len(token) < 2:\n",
    "        return False\n",
    "    if token.is_stop:\n",
    "        return False\n",
    "    if token.is_digit:\n",
    "        return False\n",
    "    if token.like_num:\n",
    "        return False\n",
    "    if token.text[0].islower():\n",
    "        return False\n",
    "    return True"
   ]
  },
  {
   "cell_type": "code",
   "execution_count": 17,
   "metadata": {},
   "outputs": [],
   "source": [
    "def _clean(text):\n",
    "    text = text.replace(\"(\", \"\")\n",
    "    text = text.split(\"/\")[0]\n",
    "    return text"
   ]
  },
  {
   "cell_type": "markdown",
   "metadata": {},
   "source": [
    "#### Por ejemplo"
   ]
  },
  {
   "cell_type": "code",
   "execution_count": 18,
   "metadata": {},
   "outputs": [
    {
     "data": {
      "text/plain": [
       "['Hackfleisch',\n",
       " 'Sauerkraut',\n",
       " 'Wurst',\n",
       " 'Csabai',\n",
       " 'Kolbász',\n",
       " 'Speck',\n",
       " 'Reis',\n",
       " 'Zwiebeln',\n",
       " 'Zehe',\n",
       " 'Knoblauch',\n",
       " 'Becher',\n",
       " 'Schmand',\n",
       " 'Kümmel',\n",
       " 'Lorbeerblätter',\n",
       " 'Salz',\n",
       " 'Pfeffer',\n",
       " 'Eier',\n",
       " 'Bedarf',\n",
       " 'Paprikapulver',\n",
       " 'Wasser',\n",
       " 'Öl']"
      ]
     },
     "execution_count": 18,
     "metadata": {},
     "output_type": "execute_result"
    }
   ],
   "source": [
    "clean = [_clean(t.text) for i in ingredients[0] for t in nlp(i) if _filter(t) and len(_clean(t.text)) >= 2]\n",
    "clean"
   ]
  },
  {
   "cell_type": "code",
   "execution_count": 19,
   "metadata": {},
   "outputs": [],
   "source": [
    "def get_labels(ingredients, tokenized_instructions):\n",
    "    labels = []\n",
    "    for ing, ti in zip(ingredients, tokenized_instructions):\n",
    "        l_i = []\n",
    "        ci = [_clean(t.text) for i in ing for t in nlp(i) if _filter(t) and len(_clean(t.text)) >= 2]\n",
    "        label = []\n",
    "        for token in ti:\n",
    "            l_i.append(any((c == token.text or c == token.text[:-1] or c[:-1] == token.text) for c in ci))\n",
    "        labels.append(l_i)\n",
    "    return labels"
   ]
  },
  {
   "cell_type": "code",
   "execution_count": 20,
   "metadata": {},
   "outputs": [],
   "source": [
    "labels = get_labels(ingredients, tokenized)"
   ]
  },
  {
   "cell_type": "code",
   "execution_count": 21,
   "metadata": {},
   "outputs": [
    {
     "data": {
      "text/plain": [
       "{'Becher',\n",
       " 'Eier',\n",
       " 'Hackfleisch',\n",
       " 'Knoblauch',\n",
       " 'Kolbász',\n",
       " 'Kümmel',\n",
       " 'Lorbeerblättern',\n",
       " 'Paprikapulver',\n",
       " 'Pfeffer',\n",
       " 'Reis',\n",
       " 'Salz',\n",
       " 'Sauerkraut',\n",
       " 'Schmand',\n",
       " 'Speck',\n",
       " 'Wasser',\n",
       " 'Wurst',\n",
       " 'Zwiebel',\n",
       " 'Öl'}"
      ]
     },
     "execution_count": 21,
     "metadata": {},
     "output_type": "execute_result"
    }
   ],
   "source": [
    "set([t.text for t, l in zip(tokenized[0], labels[0]) if l])"
   ]
  },
  {
   "cell_type": "markdown",
   "metadata": {},
   "source": [
    "## Modelos con redes LSTM"
   ]
  },
  {
   "cell_type": "code",
   "execution_count": 22,
   "metadata": {},
   "outputs": [],
   "source": [
    "import matplotlib.pyplot as plt\n",
    "%matplotlib inline"
   ]
  },
  {
   "cell_type": "code",
   "execution_count": 23,
   "metadata": {},
   "outputs": [
    {
     "data": {
      "image/png": "[encoded data removed]",
      "text/plain": [
       "<Figure size 432x288 with 1 Axes>"
      ]
     },
     "metadata": {
      "needs_background": "light"
     },
     "output_type": "display_data"
    }
   ],
   "source": [
    "plt.hist([len([t for t in tokens]) for tokens in tokenized], bins=20);"
   ]
  },
  {
   "cell_type": "code",
   "execution_count": 24,
   "metadata": {},
   "outputs": [],
   "source": [
    "MAX_LEN = 400"
   ]
  },
  {
   "cell_type": "code",
   "execution_count": 25,
   "metadata": {},
   "outputs": [
    {
     "name": "stderr",
     "output_type": "stream",
     "text": [
      "Using TensorFlow backend.\n"
     ]
    }
   ],
   "source": [
    "from keras.preprocessing.sequence import pad_sequences"
   ]
  },
  {
   "cell_type": "code",
   "execution_count": 26,
   "metadata": {},
   "outputs": [],
   "source": [
    "def prepare_sequences(texts, max_len, vocab={\"<UNK>\": 1, \"<PAD>\": 0}):\n",
    "    X = [[vocab.get(w.text, vocab[\"<UNK>\"]) for w in s] for s in texts]\n",
    "    return pad_sequences(maxlen=max_len, sequences=X, padding=\"post\", value=vocab[\"<PAD>\"])"
   ]
  },
  {
   "cell_type": "code",
   "execution_count": 27,
   "metadata": {},
   "outputs": [],
   "source": [
    "X_seq = prepare_sequences(tokenized, max_len=MAX_LEN, vocab=vocab)"
   ]
  },
  {
   "cell_type": "code",
   "execution_count": 28,
   "metadata": {},
   "outputs": [
    {
     "data": {
      "text/plain": [
       "array([192, 193, 194, 183, 195, 196, 128, 197,   9, 198, 199, 200, 201,\n",
       "       202, 203,  60, 204, 205,   9,  13, 206,  15,  23,  98, 207, 208,\n",
       "        51, 209,  68, 202, 203,  25,   6, 195, 125, 202, 210, 211, 212,\n",
       "        33,  45, 213, 214, 100, 196,  13, 215, 216, 217,  33,   9,  68,\n",
       "       218, 219, 213, 169,  35,  82, 100, 220, 221, 202,   6, 222,  45,\n",
       "       223,  48, 224,  33,  67, 225, 100, 226,   6, 227, 228, 229, 130,\n",
       "        45,  92,  85, 230, 211, 231,   6, 232, 233, 234, 235, 145, 157,\n",
       "       236,   9, 237, 238, 104, 239, 210, 240, 157, 241,  54,   6, 109,\n",
       "       242, 243, 244, 245, 246, 187, 247,   6, 248, 183, 249, 250,  33,\n",
       "       129,  13, 251, 252, 101, 253,  33, 254,   9,  31, 255,  40, 172,\n",
       "         6,   2, 256, 257, 177, 258, 259, 260,  33,  42, 261, 262, 263,\n",
       "       131, 264, 265, 266,  33, 267,  74, 268, 269,  68, 270,   6,   0,\n",
       "         0,   0,   0,   0,   0,   0,   0,   0,   0,   0,   0,   0,   0,\n",
       "         0,   0,   0,   0,   0,   0,   0,   0,   0,   0,   0,   0,   0,\n",
       "         0,   0,   0,   0,   0,   0,   0,   0,   0,   0,   0,   0,   0,\n",
       "         0,   0,   0,   0,   0,   0,   0,   0,   0,   0,   0,   0,   0,\n",
       "         0,   0,   0,   0,   0,   0,   0,   0,   0,   0,   0,   0,   0,\n",
       "         0,   0,   0,   0,   0,   0,   0,   0,   0,   0,   0,   0,   0,\n",
       "         0,   0,   0,   0,   0,   0,   0,   0,   0,   0,   0,   0,   0,\n",
       "         0,   0,   0,   0,   0,   0,   0,   0,   0,   0,   0,   0,   0,\n",
       "         0,   0,   0,   0,   0,   0,   0,   0,   0,   0,   0,   0,   0,\n",
       "         0,   0,   0,   0,   0,   0,   0,   0,   0,   0,   0,   0,   0,\n",
       "         0,   0,   0,   0,   0,   0,   0,   0,   0,   0,   0,   0,   0,\n",
       "         0,   0,   0,   0,   0,   0,   0,   0,   0,   0,   0,   0,   0,\n",
       "         0,   0,   0,   0,   0,   0,   0,   0,   0,   0,   0,   0,   0,\n",
       "         0,   0,   0,   0,   0,   0,   0,   0,   0,   0,   0,   0,   0,\n",
       "         0,   0,   0,   0,   0,   0,   0,   0,   0,   0,   0,   0,   0,\n",
       "         0,   0,   0,   0,   0,   0,   0,   0,   0,   0,   0,   0,   0,\n",
       "         0,   0,   0,   0,   0,   0,   0,   0,   0,   0,   0,   0,   0,\n",
       "         0,   0,   0,   0,   0,   0,   0,   0,   0,   0,   0,   0,   0,\n",
       "         0,   0,   0,   0,   0,   0,   0,   0,   0,   0], dtype=int32)"
      ]
     },
     "execution_count": 28,
     "metadata": {},
     "output_type": "execute_result"
    }
   ],
   "source": [
    "X_seq[1]"
   ]
  },
  {
   "cell_type": "code",
   "execution_count": 29,
   "metadata": {},
   "outputs": [],
   "source": [
    "y_seq = []\n",
    "for l in labels:\n",
    "    y_i = []\n",
    "    for i in range(MAX_LEN):\n",
    "        try:\n",
    "            y_i.append(float(l[i]))\n",
    "        except:\n",
    "            y_i.append(0.0)\n",
    "    y_seq.append(np.array(y_i))\n",
    "y_seq = np.array(y_seq)\n",
    "y_seq = y_seq.reshape(y_seq.shape[0], y_seq.shape[1], 1)"
   ]
  },
  {
   "cell_type": "markdown",
   "metadata": {},
   "source": [
    "# Preparando la red"
   ]
  },
  {
   "cell_type": "markdown",
   "metadata": {},
   "source": [
    "## Para empezar una red sencilla de 2 capas"
   ]
  },
  {
   "cell_type": "code",
   "execution_count": 30,
   "metadata": {},
   "outputs": [],
   "source": [
    "def create_model():\n",
    "    model = tf.keras.Sequential()\n",
    "    model.add(layers.Embedding(input_dim=len(vocab), mask_zero=True, output_dim=50))\n",
    "    model.add(layers.SpatialDropout1D(0.2))\n",
    "    model.add(layers.Bidirectional(layers.LSTM(units=64, return_sequences=True)))\n",
    "    model.add(layers.SpatialDropout1D(0.2))\n",
    "    model.add(layers.Bidirectional(layers.LSTM(units=64, return_sequences=True)))\n",
    "    model.add(layers.TimeDistributed(layers.Dense(1, activation='sigmoid')))\n",
    "    \n",
    "    model.compile(optimizer=tf.train.AdamOptimizer(0.001),\n",
    "              loss='binary_crossentropy',\n",
    "              metrics=['accuracy'])\n",
    "    return model"
   ]
  },
  {
   "cell_type": "code",
   "execution_count": 31,
   "metadata": {},
   "outputs": [
    {
     "name": "stdout",
     "output_type": "stream",
     "text": [
      "WARNING:tensorflow:From /LUSTRE/home/jurias/miniconda3/lib/python3.7/site-packages/tensorflow/python/ops/resource_variable_ops.py:435: colocate_with (from tensorflow.python.framework.ops) is deprecated and will be removed in a future version.\n",
      "Instructions for updating:\n",
      "Colocations handled automatically by placer.\n",
      "WARNING:tensorflow:From /LUSTRE/home/jurias/miniconda3/lib/python3.7/site-packages/tensorflow/python/keras/layers/core.py:143: calling dropout (from tensorflow.python.ops.nn_ops) with keep_prob is deprecated and will be removed in a future version.\n",
      "Instructions for updating:\n",
      "Please use `rate` instead of `keep_prob`. Rate should be set to `rate = 1 - keep_prob`.\n",
      "_________________________________________________________________\n",
      "Layer (type)                 Output Shape              Param #   \n",
      "=================================================================\n",
      "embedding (Embedding)        (None, None, 50)          898400    \n",
      "_________________________________________________________________\n",
      "spatial_dropout1d (SpatialDr (None, None, 50)          0         \n",
      "_________________________________________________________________\n",
      "bidirectional (Bidirectional (None, None, 128)         58880     \n",
      "_________________________________________________________________\n",
      "spatial_dropout1d_1 (Spatial (None, None, 128)         0         \n",
      "_________________________________________________________________\n",
      "bidirectional_1 (Bidirection (None, None, 128)         98816     \n",
      "_________________________________________________________________\n",
      "time_distributed (TimeDistri (None, None, 1)           129       \n",
      "=================================================================\n",
      "Total params: 1,056,225\n",
      "Trainable params: 1,056,225\n",
      "Non-trainable params: 0\n",
      "_________________________________________________________________\n"
     ]
    }
   ],
   "source": [
    "model = create_model()\n",
    "\n",
    "model.summary()"
   ]
  },
  {
   "cell_type": "code",
   "execution_count": null,
   "metadata": {},
   "outputs": [],
   "source": []
  },
  {
   "cell_type": "code",
   "execution_count": 32,
   "metadata": {},
   "outputs": [],
   "source": [
    "checkpoint_path = \"training_1/cp.ckpt\"\n",
    "checkpoint_dir = os.path.dirname(checkpoint_path)\n",
    "\n",
    "# Create checkpoint callback\n",
    "cp_callback1 = tf.keras.callbacks.ModelCheckpoint(checkpoint_path, \n",
    "                                                 save_weights_only=True,\n",
    "                                                 verbose=1)\n"
   ]
  },
  {
   "cell_type": "code",
   "execution_count": 33,
   "metadata": {},
   "outputs": [
    {
     "name": "stdout",
     "output_type": "stream",
     "text": [
      "Train on 10971 samples, validate on 1219 samples\n",
      "WARNING:tensorflow:From /LUSTRE/home/jurias/miniconda3/lib/python3.7/site-packages/tensorflow/python/ops/math_ops.py:3066: to_int32 (from tensorflow.python.ops.math_ops) is deprecated and will be removed in a future version.\n",
      "Instructions for updating:\n",
      "Use tf.cast instead.\n",
      "Epoch 1/10\n",
      "10752/10971 [============================>.] - ETA: 8s - loss: 0.3806 - acc: 0.8964 \n",
      "Epoch 00001: saving model to training_1/cp.ckpt\n",
      "WARNING:tensorflow:From /LUSTRE/home/jurias/miniconda3/lib/python3.7/site-packages/tensorflow/python/keras/engine/network.py:1436: update_checkpoint_state (from tensorflow.python.training.checkpoint_management) is deprecated and will be removed in a future version.\n",
      "Instructions for updating:\n",
      "Use tf.train.CheckpointManager to manage checkpoints rather than manually editing the Checkpoint proto.\n",
      "10971/10971 [==============================] - 444s 40ms/sample - loss: 0.3787 - acc: 0.8968 - val_loss: 0.2923 - val_acc: 0.9109\n",
      "Epoch 2/10\n",
      "10752/10971 [============================>.] - ETA: 8s - loss: 0.2752 - acc: 0.9103 \n",
      "Epoch 00002: saving model to training_1/cp.ckpt\n",
      "10971/10971 [==============================] - 436s 40ms/sample - loss: 0.2749 - acc: 0.9103 - val_loss: 0.2509 - val_acc: 0.9109\n",
      "Epoch 3/10\n",
      "10752/10971 [============================>.] - ETA: 8s - loss: 0.2099 - acc: 0.9163 \n",
      "Epoch 00003: saving model to training_1/cp.ckpt\n",
      "10971/10971 [==============================] - 437s 40ms/sample - loss: 0.2084 - acc: 0.9170 - val_loss: 0.1243 - val_acc: 0.9622\n",
      "Epoch 4/10\n",
      "10752/10971 [============================>.] - ETA: 8s - loss: 0.0813 - acc: 0.9718 \n",
      "Epoch 00004: saving model to training_1/cp.ckpt\n",
      "10971/10971 [==============================] - 437s 40ms/sample - loss: 0.0812 - acc: 0.9719 - val_loss: 0.0646 - val_acc: 0.9761\n",
      "Epoch 5/10\n",
      "10752/10971 [============================>.] - ETA: 8s - loss: 0.0648 - acc: 0.9760 \n",
      "Epoch 00005: saving model to training_1/cp.ckpt\n",
      "10971/10971 [==============================] - 437s 40ms/sample - loss: 0.0645 - acc: 0.9761 - val_loss: 0.0597 - val_acc: 0.9775\n",
      "Epoch 6/10\n",
      "10752/10971 [============================>.] - ETA: 8s - loss: 0.0608 - acc: 0.9778 \n",
      "Epoch 00006: saving model to training_1/cp.ckpt\n",
      "10971/10971 [==============================] - 436s 40ms/sample - loss: 0.0608 - acc: 0.9777 - val_loss: 0.0581 - val_acc: 0.9784\n",
      "Epoch 7/10\n",
      "10752/10971 [============================>.] - ETA: 8s - loss: 0.0580 - acc: 0.9789 \n",
      "Epoch 00007: saving model to training_1/cp.ckpt\n",
      "10971/10971 [==============================] - 437s 40ms/sample - loss: 0.0583 - acc: 0.9788 - val_loss: 0.0555 - val_acc: 0.9796\n",
      "Epoch 8/10\n",
      "10752/10971 [============================>.] - ETA: 8s - loss: 0.0560 - acc: 0.9800 \n",
      "Epoch 00008: saving model to training_1/cp.ckpt\n",
      "10971/10971 [==============================] - 436s 40ms/sample - loss: 0.0560 - acc: 0.9800 - val_loss: 0.0529 - val_acc: 0.9807\n",
      "Epoch 9/10\n",
      "10752/10971 [============================>.] - ETA: 8s - loss: 0.0535 - acc: 0.9811 \n",
      "Epoch 00009: saving model to training_1/cp.ckpt\n",
      "10971/10971 [==============================] - 437s 40ms/sample - loss: 0.0533 - acc: 0.9812 - val_loss: 0.0517 - val_acc: 0.9813\n",
      "Epoch 10/10\n",
      "10752/10971 [============================>.] - ETA: 8s - loss: 0.0499 - acc: 0.9827 \n",
      "Epoch 00010: saving model to training_1/cp.ckpt\n",
      "10971/10971 [==============================] - 439s 40ms/sample - loss: 0.0497 - acc: 0.9827 - val_loss: 0.0471 - val_acc: 0.9834\n"
     ]
    }
   ],
   "source": [
    "history = model.fit(X_seq, y_seq, epochs=10, batch_size=256, validation_split=0.1, callbacks = [cp_callback1])"
   ]
  },
  {
   "cell_type": "code",
   "execution_count": 34,
   "metadata": {},
   "outputs": [
    {
     "data": {
      "image/png": "[encoded data removed]",
      "text/plain": [
       "<Figure size 432x288 with 1 Axes>"
      ]
     },
     "metadata": {
      "needs_background": "light"
     },
     "output_type": "display_data"
    }
   ],
   "source": [
    "plt.plot(history.history[\"loss\"], label=\"trn_loss\");\n",
    "plt.plot(history.history[\"val_loss\"], label=\"val_loss\");\n",
    "plt.legend();\n",
    "plt.title(\"Loss\");"
   ]
  },
  {
   "cell_type": "code",
   "execution_count": 35,
   "metadata": {},
   "outputs": [
    {
     "data": {
      "image/png": "[encoded data removed]",
      "text/plain": [
       "<Figure size 432x288 with 1 Axes>"
      ]
     },
     "metadata": {
      "needs_background": "light"
     },
     "output_type": "display_data"
    }
   ],
   "source": [
    "plt.plot(history.history[\"acc\"], label=\"trn_acc\");\n",
    "plt.plot(history.history[\"val_acc\"], label=\"val_acc\");\n",
    "plt.legend();\n",
    "plt.title(\"Accuracy\");"
   ]
  },
  {
   "cell_type": "markdown",
   "metadata": {},
   "source": [
    "# Analisis de la prediccion del modelo"
   ]
  },
  {
   "cell_type": "code",
   "execution_count": 36,
   "metadata": {},
   "outputs": [
    {
     "name": "stdout",
     "output_type": "stream",
     "text": [
      "12190/12190 [==============================] - 81s 7ms/sample\n"
     ]
    }
   ],
   "source": [
    "y_pred = model.predict(X_seq, verbose=1, batch_size=1024)"
   ]
  },
  {
   "cell_type": "code",
   "execution_count": 37,
   "metadata": {},
   "outputs": [],
   "source": [
    "i = 3343\n",
    "pred_i = y_pred[i] > 0.05"
   ]
  },
  {
   "cell_type": "code",
   "execution_count": 38,
   "metadata": {},
   "outputs": [
    {
     "data": {
      "text/plain": [
       "Kohlrabi schälen, waschen und in Stifte schneiden. Brühe und Milch ankochen, Kohlrabi dazugeben, aufkochen lassen und 10 Minuten kochen. Dann herausnehmen und abtropfen lassen, die Brühe aufheben.Butter erhitzen, das Mehl darin anschwitzen, mit Kohlrabibrühe ablöschen und aufkochen lassen. Mit den Gewürzen abschmecken. Kohlrabi wieder dazugeben.Hähnchenbrust schnetzeln, kräftig anbraten und würzen. Das Fleisch in eine Auflaufform geben, die Speckwürfel darüber verteilen. Mit Käse bestreuen. Nun das Gemüse darüber schichten und alles bei 180 °C ca. 25 Minuten überbacken.Tipp:Man kann auch gut gekochte, in Würfel geschnittene Kartoffeln unter die Kohlrabi mischen. Ebenso kann man auch Kohlrabi und Möhren für den Auflauf nehmen. Schmeckt auch sehr lecker!"
      ]
     },
     "execution_count": 38,
     "metadata": {},
     "output_type": "execute_result"
    }
   ],
   "source": [
    "tokenized[i]"
   ]
  },
  {
   "cell_type": "code",
   "execution_count": 39,
   "metadata": {},
   "outputs": [
    {
     "name": "stdout",
     "output_type": "stream",
     "text": [
      "{'Milch', 'Kartoffeln', 'Brühe', 'Möhren', 'Käse', 'Kohlrabi', 'Speckwürfel', 'Butter', 'Gemüse', 'Mehl'}\n"
     ]
    }
   ],
   "source": [
    "ingreds = [t.text for t, p in zip(tokenized[i], pred_i) if p]\n",
    "print(set(ingreds))"
   ]
  },
  {
   "cell_type": "code",
   "execution_count": 40,
   "metadata": {},
   "outputs": [
    {
     "data": {
      "text/plain": [
       "{'Butter', 'Kohlrabi', 'Käse', 'Mehl', 'Milch'}"
      ]
     },
     "execution_count": 40,
     "metadata": {},
     "output_type": "execute_result"
    }
   ],
   "source": [
    "ingreds = [t.text for t, p in zip(tokenized[i], y_seq[i]) if p]\n",
    "set(ingreds)"
   ]
  },
  {
   "cell_type": "code",
   "execution_count": 47,
   "metadata": {},
   "outputs": [
    {
     "data": {
      "text/plain": [
       "['500 g Kohlrabi',\n",
       " '1/4Liter Hühnerbrühe',\n",
       " '1/4Liter Milch',\n",
       " '1 EL Butter',\n",
       " '30 g Mehl',\n",
       " '300 g Hähnchenbrustfilet(s)',\n",
       " 'Salz und Pfeffer',\n",
       " 'Muskat',\n",
       " '50 g Käse, gerieben',\n",
       " '50 g Speck, gewürfelt']"
      ]
     },
     "execution_count": 47,
     "metadata": {},
     "output_type": "execute_result"
    }
   ],
   "source": [
    "ingredients[i]"
   ]
  },
  {
   "cell_type": "markdown",
   "metadata": {},
   "source": [
    "## Se ve bien. El modelo parece ser mejor que las etiquetas de entrenamiento. Ahora usaremos nuestras etiquetas para hacer el fine-tuning"
   ]
  },
  {
   "cell_type": "code",
   "execution_count": 41,
   "metadata": {},
   "outputs": [],
   "source": [
    "new_labels = []\n",
    "for pred_i, ti in zip(y_pred, tokenized):\n",
    "    l_i = []\n",
    "    ci = [t.text for t, p in zip(tokenized[i], pred_i > 0.05) if p]\n",
    "    label = []\n",
    "    for token in ti:\n",
    "        l_i.append(any((c == token.text or c == token.text[:-1] or c[:-1] == token.text) for c in ci))\n",
    "    new_labels.append(l_i)"
   ]
  },
  {
   "cell_type": "code",
   "execution_count": 42,
   "metadata": {},
   "outputs": [],
   "source": [
    "y_seq_new = []\n",
    "for l in new_labels:\n",
    "    y_i = []\n",
    "    for i in range(MAX_LEN):\n",
    "        try:\n",
    "            y_i.append(float(l[i]))\n",
    "        except:\n",
    "            y_i.append(0.0)\n",
    "    y_seq_new.append(np.array(y_i))\n",
    "y_seq_new = np.array(y_seq_new)\n",
    "y_seq_new = y_seq.reshape(y_seq_new.shape[0], y_seq_new.shape[1], 1)"
   ]
  },
  {
   "cell_type": "code",
   "execution_count": 43,
   "metadata": {},
   "outputs": [],
   "source": [
    "checkpoint_path = \"training_2/cp.ckpt\"\n",
    "checkpoint_dir = os.path.dirname(checkpoint_path)\n",
    "\n",
    "# Create checkpoint callback\n",
    "cp_callback2 = tf.keras.callbacks.ModelCheckpoint(checkpoint_path, \n",
    "                                                 save_weights_only=True,\n",
    "                                                 verbose=1)\n"
   ]
  },
  {
   "cell_type": "code",
   "execution_count": 44,
   "metadata": {},
   "outputs": [
    {
     "name": "stdout",
     "output_type": "stream",
     "text": [
      "Train on 10971 samples, validate on 1219 samples\n",
      "10752/10971 [============================>.] - ETA: 8s - loss: 0.0470 - acc: 0.9839 \n",
      "Epoch 00001: saving model to training_2/cp.ckpt\n",
      "10971/10971 [==============================] - 438s 40ms/sample - loss: 0.0469 - acc: 0.9839 - val_loss: 0.0450 - val_acc: 0.9844\n"
     ]
    }
   ],
   "source": [
    "history = model.fit(X_seq, y_seq_new, epochs=1, batch_size=256, validation_split=0.1, callbacks = [cp_callback2])"
   ]
  },
  {
   "cell_type": "markdown",
   "metadata": {},
   "source": [
    "# Miremos los datos de prueba"
   ]
  },
  {
   "cell_type": "code",
   "execution_count": 58,
   "metadata": {},
   "outputs": [],
   "source": [
    "eval_ingredients = eval_df.Ingredients.values"
   ]
  },
  {
   "cell_type": "code",
   "execution_count": 59,
   "metadata": {},
   "outputs": [],
   "source": [
    "eval_tokenized = [nlp(t) for t in eval_df.Instructions.values]\n",
    "\n",
    "X_seq_test = prepare_sequences(eval_tokenized, max_len=MAX_LEN, vocab=vocab)"
   ]
  },
  {
   "cell_type": "code",
   "execution_count": 61,
   "metadata": {},
   "outputs": [
    {
     "name": "stdout",
     "output_type": "stream",
     "text": [
      "1190/1190 [==============================] - 9s 8ms/sample\n"
     ]
    }
   ],
   "source": [
    "y_pred_test = model.predict(X_seq_test, verbose=1, batch_size=1024)"
   ]
  },
  {
   "cell_type": "code",
   "execution_count": 62,
   "metadata": {},
   "outputs": [
    {
     "name": "stdout",
     "output_type": "stream",
     "text": [
      "Den Quark durch ein Sieb in eine tiefe Schüssel streichen.Das Mehl, den Zucker, Salz, Vanillezucker und das rohe Ei/er gut verrühren.Diese Masse auf einem mit Mehl bestreuten Backbrett zu einer dicken Wurst rollen und in 10 gleichgroße Scheiben schneiden. In heißer Butter von beiden Seiten goldbraun braten.Die fertigen Tworoshniki werden mit Puderzucker bestreut oder warm mit saurer Sahne oder Obstsirup zu Tisch gebracht.\n",
      "\n",
      "['500 g Quark, sehr trockenen', '80 g Mehl', '2 EL Zucker', '1 Pck. Vanillezucker', 'Salz', '1 Ei(er), evt. 2', '4 EL Butter oder Margarine', 'Puderzucker', '125 ml Sirup (Obstsirup) oder saure Sahne', 'Mehl für die Arbeitsfläche']\n",
      "\n",
      "{'Quark', 'Zucker', 'Sahne', 'Butter', 'Vanillezucker', 'Puderzucker', 'Obstsirup', 'Salz', 'Mehl'}\n"
     ]
    }
   ],
   "source": [
    "i = 893\n",
    "pred_i = y_pred_test[i] > 0.05\n",
    "print(eval_tokenized[i])\n",
    "print()\n",
    "print(eval_ingredients[i])\n",
    "print()\n",
    "ingreds = [t.text for t, p in zip(eval_tokenized[i], pred_i) if p]\n",
    "print(set(ingreds))"
   ]
  },
  {
   "cell_type": "code",
   "execution_count": 63,
   "metadata": {},
   "outputs": [
    {
     "name": "stdout",
     "output_type": "stream",
     "text": [
      "Spargel putzen und bissfest garen. Herausnehmen, abschrecken und warm stellen.Fisch mit Salz und Pfeffer würzen. Öl in einer Pfanne erhitzen und den Lachs darin 3-4 Min. je Seite braten. Butter schmelzen, Mandeln hinzufügen und leicht bräunen. Schale der Limette mit einem Zestenreißer abziehen, den Saft auspressen, beides in die Butter geben. Mit Salz und Pfeffer würzen.Spargel abtropfen lassen, mit Lachs anrichten und mit Mandelbutter beträufeln.Dazu passen Salzkartoffeln.\n",
      "\n",
      "['500 g Spargel, weißer', '500 g Spargel, grüner', 'Salz und Pfeffer', '4 Scheibe/n Lachsfilet(s) (à ca. 200g)', '2 EL Öl', '100 g Butter', '30 g Mandel(n) in Blättchen', '1 Limette(n), unbehandelt']\n",
      "\n",
      "{'Mandeln', 'Spargel', 'Öl', 'Pfeffer', 'Saft', 'Fisch', 'Lachs', 'Butter', 'Limette', 'Salz'}\n"
     ]
    }
   ],
   "source": [
    "i = 26\n",
    "pred_i = y_pred_test[i] > 0.05\n",
    "print(eval_tokenized[i])\n",
    "print()\n",
    "print(eval_ingredients[i])\n",
    "print()\n",
    "ingreds = [t.text for t, p in zip(eval_tokenized[i], pred_i) if p]\n",
    "print(set(ingreds))"
   ]
  }
 ],
 "metadata": {
  "kernelspec": {
   "display_name": "Python 3",
   "language": "python",
   "name": "python3"
  },
  "language_info": {
   "codemirror_mode": {
    "name": "ipython",
    "version": 3
   },
   "file_extension": ".py",
   "mimetype": "text/x-python",
   "name": "python",
   "nbconvert_exporter": "python",
   "pygments_lexer": "ipython3",
   "version": "3.7.3"
  }
 },
 "nbformat": 4,
 "nbformat_minor": 2
}
